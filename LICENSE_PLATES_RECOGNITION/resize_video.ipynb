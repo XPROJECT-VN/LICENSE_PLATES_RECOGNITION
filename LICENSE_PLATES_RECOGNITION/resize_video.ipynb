{
 "cells": [
  {
   "cell_type": "code",
   "execution_count": 16,
   "metadata": {},
   "outputs": [
    {
     "name": "stdout",
     "output_type": "stream",
     "text": [
      "create\n"
     ]
    }
   ],
   "source": [
    "import cv2\n",
    "\n",
    "cap = cv2.VideoCapture('videos/video_raw.mov')\n",
    "writer = None\n",
    "if cap.isOpened() == False:\n",
    "    print('Cannot open file video')\n",
    "    quit()\n",
    "\n",
    "writer = None \n",
    "\n",
    "while True:\n",
    "    res, image = cap.read()\n",
    "    if res == True:\n",
    "        \n",
    "        image_resize = cv2.pyrDown(image)\n",
    "        # image_gray = cv2.cvtColor(image_resize, cv2.COLOR_BGR2GRAY)\n",
    "        # width = int(image_gray.shape[0])\n",
    "        # height = int(image_gray.shape[1])\n",
    "        # start_y = int(height / 4)\n",
    "        \n",
    "        # crop_height = int(height / 2) \n",
    "        # image_crop = image_gray[start_y: start_y + crop_height, 0:width]\n",
    "        # image_revert_color = cv2.cvtColor(image_crop, cv2.COLOR_GRAY2BGR)\n",
    "        if writer == None:\n",
    "            fourcc = cv2.VideoWriter_fourcc(*'MJPG')\n",
    "            fps = cap.get(cv2.CAP_PROP_FPS)\n",
    "            size = (image_resize.shape[0], image_resize.shape[1])\n",
    "            writer = cv2.VideoWriter('videos/video.avi',   fourcc,  fps, size, True)\n",
    "            print(\"create\")\n",
    "\n",
    "        writer.write(image_resize) \n",
    "        cv2.imshow('video', image_resize)\n",
    "        cv2.waitKey(15)\n",
    "        # writer.write(image)\n",
    "        # cv2.imshow('video', image_crop)\n",
    "        # cv2.waitKey(15)\n",
    "    else:\n",
    "        break\n",
    "\n",
    "if writer != None:\n",
    "    writer.release()\n",
    "    print(\"close\")\n",
    "print('END')"
   ]
  }
 ],
 "metadata": {
  "kernelspec": {
   "display_name": "Python 3",
   "language": "python",
   "name": "python3"
  },
  "language_info": {
   "codemirror_mode": {
    "name": "ipython",
    "version": 3
   },
   "file_extension": ".py",
   "mimetype": "text/x-python",
   "name": "python",
   "nbconvert_exporter": "python",
   "pygments_lexer": "ipython3",
   "version": "3.11.4"
  }
 },
 "nbformat": 4,
 "nbformat_minor": 2
}
