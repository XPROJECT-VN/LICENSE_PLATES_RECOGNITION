{
 "cells": [
  {
   "cell_type": "code",
   "execution_count": 24,
   "metadata": {},
   "outputs": [
    {
     "ename": "KeyboardInterrupt",
     "evalue": "",
     "output_type": "error",
     "traceback": [
      "\u001b[1;31m---------------------------------------------------------------------------\u001b[0m",
      "\u001b[1;31mKeyboardInterrupt\u001b[0m                         Traceback (most recent call last)",
      "\u001b[1;32mc:\\Temp\\LICENSE_PLATES_RECOGNITION\\LICENSE_PLATES_RECOGNITION\\clip_plate.ipynb Cell 1\u001b[0m line \u001b[0;36m1\n\u001b[0;32m      <a href='vscode-notebook-cell:/c%3A/Temp/LICENSE_PLATES_RECOGNITION/LICENSE_PLATES_RECOGNITION/clip_plate.ipynb#W0sZmlsZQ%3D%3D?line=8'>9</a>\u001b[0m \u001b[39mfor\u001b[39;00m file_name \u001b[39min\u001b[39;00m list_files:\n\u001b[0;32m     <a href='vscode-notebook-cell:/c%3A/Temp/LICENSE_PLATES_RECOGNITION/LICENSE_PLATES_RECOGNITION/clip_plate.ipynb#W0sZmlsZQ%3D%3D?line=9'>10</a>\u001b[0m     file_path \u001b[39m=\u001b[39m path \u001b[39m+\u001b[39m \u001b[39m'\u001b[39m\u001b[39m/\u001b[39m\u001b[39m'\u001b[39m \u001b[39m+\u001b[39m file_name\n\u001b[1;32m---> <a href='vscode-notebook-cell:/c%3A/Temp/LICENSE_PLATES_RECOGNITION/LICENSE_PLATES_RECOGNITION/clip_plate.ipynb#W0sZmlsZQ%3D%3D?line=10'>11</a>\u001b[0m     mat \u001b[39m=\u001b[39m cv2\u001b[39m.\u001b[39;49mimread(file_path)\n\u001b[0;32m     <a href='vscode-notebook-cell:/c%3A/Temp/LICENSE_PLATES_RECOGNITION/LICENSE_PLATES_RECOGNITION/clip_plate.ipynb#W0sZmlsZQ%3D%3D?line=11'>12</a>\u001b[0m     mat_gray \u001b[39m=\u001b[39m cv2\u001b[39m.\u001b[39mcvtColor(mat, cv2\u001b[39m.\u001b[39mCOLOR_BGR2GRAY)\n\u001b[0;32m     <a href='vscode-notebook-cell:/c%3A/Temp/LICENSE_PLATES_RECOGNITION/LICENSE_PLATES_RECOGNITION/clip_plate.ipynb#W0sZmlsZQ%3D%3D?line=12'>13</a>\u001b[0m     mat_blurred \u001b[39m=\u001b[39m cv2\u001b[39m.\u001b[39mGaussianBlur(mat_gray, (\u001b[39m7\u001b[39m, \u001b[39m7\u001b[39m), \u001b[39m0\u001b[39m)\n",
      "\u001b[1;31mKeyboardInterrupt\u001b[0m: "
     ]
    }
   ],
   "source": [
    "import cv2\n",
    "import os \n",
    "\n",
    "path = 'raw_images'\n",
    "list_files = os.listdir(path)\n",
    "\n",
    "file_index = 0\n",
    "\n",
    "for file_name in list_files:\n",
    "    file_path = path + '/' + file_name\n",
    "    mat = cv2.imread(file_path)\n",
    "    mat_gray = cv2.cvtColor(mat, cv2.COLOR_BGR2GRAY)\n",
    "    mat_blurred = cv2.GaussianBlur(mat_gray, (7, 7), 0)\n",
    "    thresh, mat_bin = cv2.threshold(mat_blurred, 128, 255, cv2.THRESH_BINARY)\n",
    "    contours, hierarchy = cv2.findContours(mat_bin, cv2.RETR_TREE, cv2.CHAIN_APPROX_SIMPLE)\n",
    "    contour_index = 0\n",
    "    for contour in contours:\n",
    "        box = cv2.boundingRect(contour)\n",
    "        x = box[0]\n",
    "        y = box[1]\n",
    "        width = box[2]\n",
    "        height = box[3]\n",
    "        if width < height :\n",
    "            continue\n",
    "        if width < 500: \n",
    "            continue\n",
    "        scale = float(width) / float(height)\n",
    "        if scale < 1.1 or scale > 2:\n",
    "            continue\n",
    "        \n",
    "        mat_crop = mat_gray[y:y+height, x:x+width]\n",
    "        cv2.imshow('plate', mat_crop)\n",
    "        cv2.waitKey(30)\n",
    "\n",
    "        output_path = 'plate_images/' + str(file_index) + '_' + str(contour_index) + '.jpg'\n",
    "        cv2.imwrite(output_path, mat_crop)\n",
    "\n",
    "        contour_index += 1\n",
    "        pass\n",
    "    file_index+=1"
   ]
  }
 ],
 "metadata": {
  "kernelspec": {
   "display_name": "Python 3",
   "language": "python",
   "name": "python3"
  },
  "language_info": {
   "codemirror_mode": {
    "name": "ipython",
    "version": 3
   },
   "file_extension": ".py",
   "mimetype": "text/x-python",
   "name": "python",
   "nbconvert_exporter": "python",
   "pygments_lexer": "ipython3",
   "version": "3.11.4"
  }
 },
 "nbformat": 4,
 "nbformat_minor": 2
}
