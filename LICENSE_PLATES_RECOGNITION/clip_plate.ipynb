{
 "cells": [
  {
   "cell_type": "code",
   "execution_count": 25,
   "metadata": {},
   "outputs": [],
   "source": [
    "import cv2\n",
    "import os \n",
    "\n",
    "path = 'raw_images'\n",
    "list_files = os.listdir(path)\n",
    "\n",
    "file_index = 0\n",
    "\n",
    "for file_name in list_files:\n",
    "    file_path = path + '/' + file_name\n",
    "    mat = cv2.imread(file_path)\n",
    "    mat_gray = cv2.cvtColor(mat, cv2.COLOR_BGR2GRAY)\n",
    "    mat_blurred = cv2.GaussianBlur(mat_gray, (7, 7), 0)\n",
    "    thresh, mat_bin = cv2.threshold(mat_blurred, 128, 255, cv2.THRESH_BINARY)\n",
    "    contours, hierarchy = cv2.findContours(mat_bin, cv2.RETR_TREE, cv2.CHAIN_APPROX_SIMPLE)\n",
    "    contour_index = 0\n",
    "    for contour in contours:\n",
    "        box = cv2.boundingRect(contour)\n",
    "        x = box[0]\n",
    "        y = box[1]\n",
    "        width = box[2]\n",
    "        height = box[3]\n",
    "        if width < height :\n",
    "            continue\n",
    "        if width < 500: \n",
    "            continue\n",
    "        scale = float(width) / float(height)\n",
    "        if scale < 1.1 or scale > 2:\n",
    "            continue\n",
    "        \n",
    "        mat_crop = mat_gray[y:y+height, x:x+width]\n",
    "        cv2.imshow('plate', mat_crop)\n",
    "        cv2.waitKey(30)\n",
    "\n",
    "        output_path = 'plate_images/' + str(file_index) + '_' + str(contour_index) + '.jpg'\n",
    "        cv2.imwrite(output_path, mat_crop)\n",
    "\n",
    "        contour_index += 1\n",
    "        pass\n",
    "    file_index+=1"
   ]
  }
 ],
 "metadata": {
  "kernelspec": {
   "display_name": "Python 3",
   "language": "python",
   "name": "python3"
  },
  "language_info": {
   "codemirror_mode": {
    "name": "ipython",
    "version": 3
   },
   "file_extension": ".py",
   "mimetype": "text/x-python",
   "name": "python",
   "nbconvert_exporter": "python",
   "pygments_lexer": "ipython3",
   "version": "3.11.4"
  }
 },
 "nbformat": 4,
 "nbformat_minor": 2
}
