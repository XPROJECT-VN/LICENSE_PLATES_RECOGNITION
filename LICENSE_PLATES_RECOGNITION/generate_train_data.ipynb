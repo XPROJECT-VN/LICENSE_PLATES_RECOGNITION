{
 "cells": [
  {
   "cell_type": "code",
   "execution_count": 12,
   "metadata": {},
   "outputs": [
    {
     "name": "stdout",
     "output_type": "stream",
     "text": [
      "Finished !\n"
     ]
    }
   ],
   "source": [
    "import cv2\n",
    "import os \n",
    "import numpy as np\n",
    "import csv\n",
    "\n",
    "path = 'train_images'\n",
    "list_dir = os.listdir(path)\n",
    "f = open('train_datas/number_data.csv', 'w')\n",
    "\n",
    "for dir in list_dir:\n",
    "    character = dir\n",
    "    list_file = os.listdir(path + '/' + dir)\n",
    "    for file in list_file:\n",
    "        file_path = path + '/' + character + '/' + file\n",
    "        mat = cv2.imread(file_path)\n",
    "        width = mat.shape[0]\n",
    "        height = mat.shape[1]\n",
    "        scale = width / height\n",
    "        mat_resize = cv2.resize(mat, (24,48))\n",
    "        mat_bin = cv2.cvtColor(mat_resize, cv2.COLOR_BGR2GRAY)\n",
    "        byte_array = np.asarray(mat_bin).reshape(-1)\n",
    "        data_row = ''\n",
    "        for val in byte_array:\n",
    "            data_row += str(int(val)) + ','\n",
    "        data_row += str(float(scale)) + ','\n",
    "        data_row += character + '\\n'\n",
    "        f.write(data_row)\n",
    "f.close()\n",
    "print('Finished !')"
   ]
  }
 ],
 "metadata": {
  "kernelspec": {
   "display_name": "Python 3",
   "language": "python",
   "name": "python3"
  },
  "language_info": {
   "codemirror_mode": {
    "name": "ipython",
    "version": 3
   },
   "file_extension": ".py",
   "mimetype": "text/x-python",
   "name": "python",
   "nbconvert_exporter": "python",
   "pygments_lexer": "ipython3",
   "version": "3.11.4"
  }
 },
 "nbformat": 4,
 "nbformat_minor": 2
}
